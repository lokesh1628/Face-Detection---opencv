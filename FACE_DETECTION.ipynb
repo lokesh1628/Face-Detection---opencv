{
 "cells": [
  {
   "cell_type": "code",
   "execution_count": 12,
   "metadata": {},
   "outputs": [],
   "source": [
    "from tensorflow.keras.preprocessing.image import ImageDataGenerator\n",
    "from tensorflow.keras.optimizers import Adam\n",
    "from tensorflow.keras.preprocessing.image import img_to_array\n",
    "from tensorflow.keras.utils import to_categorical, plot_model\n",
    "from tensorflow.keras.models import Sequential\n",
    "from tensorflow.keras.layers import BatchNormalization, Conv2D, MaxPooling2D, Activation, Flatten, Dropout, Dense\n",
    "from keras.utils.np_utils import to_categorical\n",
    "from tensorflow.keras import backend as K\n",
    "from sklearn.model_selection import train_test_split\n",
    "import matplotlib.pyplot as plt\n",
    "import numpy as np\n",
    "import random\n",
    "import cv2\n",
    "import os\n",
    "import glob"
   ]
  },
  {
   "cell_type": "code",
   "execution_count": 13,
   "metadata": {},
   "outputs": [],
   "source": [
    "epochs = 100\n",
    "lr = 1e-3\n",
    "batch_size = 64\n",
    "img_dims = (96,96,3)\n",
    "\n",
    "data = []\n",
    "labels = []"
   ]
  },
  {
   "cell_type": "code",
   "execution_count": 14,
   "metadata": {},
   "outputs": [],
   "source": [
    "image_files = [f for f in glob.glob(r'D://Gender-Detection-master//gender_dataset_face' + \"/**/*\", recursive=True) if not os.path.isdir(f)]\n",
    "random.shuffle(image_files)"
   ]
  },
  {
   "cell_type": "code",
   "execution_count": 15,
   "metadata": {},
   "outputs": [],
   "source": [
    "# converting images to arrays and labelling the categories\n",
    "for img in image_files:\n",
    "\n",
    "    image = cv2.imread(img)\n",
    "    \n",
    "    image = cv2.resize(image, (img_dims[0],img_dims[1]))\n",
    "    image = img_to_array(image)\n",
    "    data.append(image)\n",
    "\n",
    "    label = img.split(os.path.sep)[-2] # C:\\Files\\gender_dataset_face\\woman\\face_1162.jpg\n",
    "    if label == \"woman\":\n",
    "        label = 1\n",
    "    else:\n",
    "        label = 0\n",
    "        \n",
    "    labels.append([label]) # [[1], [0], [0], ...]"
   ]
  },
  {
   "cell_type": "code",
   "execution_count": 16,
   "metadata": {},
   "outputs": [],
   "source": [
    "# pre-processing\n",
    "data = np.array(data, dtype=\"float\") / 255.0\n",
    "labels = np.array(labels)\n"
   ]
  },
  {
   "cell_type": "code",
   "execution_count": 17,
   "metadata": {},
   "outputs": [],
   "source": [
    "(trainX, testX, trainY, testY) = train_test_split(data, labels, test_size=0.2,\n",
    "                                                  random_state=42)\n",
    "\n",
    "trainY = to_categorical(trainY, num_classes=2) # [[1, 0], [0, 1], [0, 1], ...]\n",
    "testY = to_categorical(testY, num_classes=2)\n"
   ]
  },
  {
   "cell_type": "code",
   "execution_count": 18,
   "metadata": {},
   "outputs": [],
   "source": [
    "# augmenting datset \n",
    "aug = ImageDataGenerator(rotation_range=25, width_shift_range=0.1,\n",
    "                         height_shift_range=0.1, shear_range=0.2, zoom_range=0.2,\n",
    "                         horizontal_flip=True, fill_mode=\"nearest\")"
   ]
  },
  {
   "cell_type": "code",
   "execution_count": 19,
   "metadata": {},
   "outputs": [],
   "source": [
    "# define model\n",
    "def build(width, height, depth, classes):\n",
    "    model = Sequential()\n",
    "    inputShape = (height, width, depth)\n",
    "    chanDim = -1\n",
    "\n",
    "    if K.image_data_format() == \"channels_first\": #Returns a string, either 'channels_first' or 'channels_last'\n",
    "        inputShape = (depth, height, width)\n",
    "        chanDim = 1    \n",
    "    \n",
    "    # The axis that should be normalized, after a Conv2D layer with data_format=\"channels_first\", \n",
    "    # set axis=1 in BatchNormalization.\n",
    "\n",
    "    model.add(Conv2D(32, (3,3), padding=\"same\", input_shape=inputShape))\n",
    "    model.add(Activation(\"relu\"))\n",
    "    model.add(BatchNormalization(axis=chanDim))\n",
    "    model.add(MaxPooling2D(pool_size=(3,3)))\n",
    "    model.add(Dropout(0.25))\n",
    "\n",
    "    model.add(Conv2D(64, (3,3), padding=\"same\"))\n",
    "    model.add(Activation(\"relu\"))\n",
    "    model.add(BatchNormalization(axis=chanDim))\n",
    "\n",
    "    model.add(Conv2D(64, (3,3), padding=\"same\"))\n",
    "    model.add(Activation(\"relu\"))\n",
    "    model.add(BatchNormalization(axis=chanDim))\n",
    "    model.add(MaxPooling2D(pool_size=(2,2)))\n",
    "    model.add(Dropout(0.25))\n",
    "\n",
    "    model.add(Conv2D(128, (3,3), padding=\"same\"))\n",
    "    model.add(Activation(\"relu\"))\n",
    "    model.add(BatchNormalization(axis=chanDim))\n",
    "\n",
    "    model.add(Conv2D(128, (3,3), padding=\"same\"))\n",
    "    model.add(Activation(\"relu\"))\n",
    "    model.add(BatchNormalization(axis=chanDim))\n",
    "    model.add(MaxPooling2D(pool_size=(2,2)))\n",
    "    model.add(Dropout(0.25))\n",
    "\n",
    "    model.add(Flatten())\n",
    "    model.add(Dense(1024))\n",
    "    model.add(Activation(\"relu\"))\n",
    "    model.add(BatchNormalization())\n",
    "    model.add(Dropout(0.5))\n",
    "\n",
    "    model.add(Dense(classes))\n",
    "    model.add(Activation(\"sigmoid\"))\n",
    "\n",
    "    return model"
   ]
  },
  {
   "cell_type": "code",
   "execution_count": 20,
   "metadata": {},
   "outputs": [],
   "source": [
    "# build model\n",
    "model = build(width=img_dims[0], height=img_dims[1], depth=img_dims[2],\n",
    "                            classes=2)\n",
    "\n",
    "# compile the model\n",
    "opt = Adam(lr=lr, decay=lr/epochs)\n",
    "model.compile(loss=\"binary_crossentropy\", optimizer=opt, metrics=[\"accuracy\"])"
   ]
  },
  {
   "cell_type": "code",
   "execution_count": 21,
   "metadata": {},
   "outputs": [
    {
     "name": "stdout",
     "output_type": "stream",
     "text": [
      "WARNING:tensorflow:From <ipython-input-21-2967944a434a>:6: Model.fit_generator (from tensorflow.python.keras.engine.training) is deprecated and will be removed in a future version.\n",
      "Instructions for updating:\n",
      "Please use Model.fit, which supports generators.\n"
     ]
    },
    {
     "name": "stderr",
     "output_type": "stream",
     "text": [
      "C:\\Users\\LENOVO\\anaconda3\\lib\\site-packages\\keras_preprocessing\\image\\image_data_generator.py:720: UserWarning: This ImageDataGenerator specifies `featurewise_center`, but it hasn't been fit on any training data. Fit it first by calling `.fit(numpy_data)`.\n",
      "  warnings.warn('This ImageDataGenerator specifies '\n",
      "C:\\Users\\LENOVO\\anaconda3\\lib\\site-packages\\keras_preprocessing\\image\\image_data_generator.py:728: UserWarning: This ImageDataGenerator specifies `featurewise_std_normalization`, but it hasn't been fit on any training data. Fit it first by calling `.fit(numpy_data)`.\n",
      "  warnings.warn('This ImageDataGenerator specifies '\n"
     ]
    },
    {
     "name": "stdout",
     "output_type": "stream",
     "text": [
      "Epoch 1/100\n",
      "29/28 [==============================] - 36s 1s/step - loss: 0.8121 - accuracy: 0.6943\n",
      "Epoch 2/100\n",
      "29/28 [==============================] - 37s 1s/step - loss: 0.5652 - accuracy: 0.7783\n",
      "Epoch 3/100\n",
      "29/28 [==============================] - 38s 1s/step - loss: 0.5018 - accuracy: 0.7978\n",
      "Epoch 4/100\n",
      "29/28 [==============================] - 38s 1s/step - loss: 0.4385 - accuracy: 0.8396\n",
      "Epoch 5/100\n",
      "29/28 [==============================] - 41s 1s/step - loss: 0.4100 - accuracy: 0.8385\n",
      "Epoch 6/100\n",
      "29/28 [==============================] - 38s 1s/step - loss: 0.3568 - accuracy: 0.8596\n",
      "Epoch 7/100\n",
      "29/28 [==============================] - 41s 1s/step - loss: 0.3299 - accuracy: 0.8770\n",
      "Epoch 8/100\n",
      "29/28 [==============================] - 38s 1s/step - loss: 0.3331 - accuracy: 0.8705\n",
      "Epoch 9/100\n",
      "29/28 [==============================] - 38s 1s/step - loss: 0.2990 - accuracy: 0.8867\n",
      "Epoch 10/100\n",
      "29/28 [==============================] - 38s 1s/step - loss: 0.2387 - accuracy: 0.9138\n",
      "Epoch 11/100\n",
      "29/28 [==============================] - 38s 1s/step - loss: 0.2460 - accuracy: 0.9057\n",
      "Epoch 12/100\n",
      "29/28 [==============================] - 39s 1s/step - loss: 0.2241 - accuracy: 0.9068\n",
      "Epoch 13/100\n",
      "29/28 [==============================] - 38s 1s/step - loss: 0.2076 - accuracy: 0.9160\n",
      "Epoch 14/100\n",
      "29/28 [==============================] - 40s 1s/step - loss: 0.1956 - accuracy: 0.9220\n",
      "Epoch 15/100\n",
      "29/28 [==============================] - 38s 1s/step - loss: 0.1651 - accuracy: 0.9339\n",
      "Epoch 16/100\n",
      "29/28 [==============================] - 38s 1s/step - loss: 0.1626 - accuracy: 0.9398\n",
      "Epoch 17/100\n",
      "29/28 [==============================] - 38s 1s/step - loss: 0.1494 - accuracy: 0.9474\n",
      "Epoch 18/100\n",
      "29/28 [==============================] - 39s 1s/step - loss: 0.1387 - accuracy: 0.9512\n",
      "Epoch 19/100\n",
      "29/28 [==============================] - 38s 1s/step - loss: 0.1254 - accuracy: 0.9523\n",
      "Epoch 20/100\n",
      "29/28 [==============================] - 38s 1s/step - loss: 0.1138 - accuracy: 0.9556\n",
      "Epoch 21/100\n",
      "29/28 [==============================] - 38s 1s/step - loss: 0.1171 - accuracy: 0.9588\n",
      "Epoch 22/100\n",
      "29/28 [==============================] - 38s 1s/step - loss: 0.1377 - accuracy: 0.9550\n",
      "Epoch 23/100\n",
      "29/28 [==============================] - 38s 1s/step - loss: 0.1135 - accuracy: 0.9561\n",
      "Epoch 24/100\n",
      "29/28 [==============================] - 39s 1s/step - loss: 0.1156 - accuracy: 0.9528\n",
      "Epoch 25/100\n",
      "29/28 [==============================] - 38s 1s/step - loss: 0.1207 - accuracy: 0.9561\n",
      "Epoch 26/100\n",
      "29/28 [==============================] - 37s 1s/step - loss: 0.0924 - accuracy: 0.9659\n",
      "Epoch 27/100\n",
      "29/28 [==============================] - 37s 1s/step - loss: 0.1124 - accuracy: 0.9588\n",
      "Epoch 28/100\n",
      "29/28 [==============================] - 38s 1s/step - loss: 0.1106 - accuracy: 0.9572\n",
      "Epoch 29/100\n",
      "29/28 [==============================] - 38s 1s/step - loss: 0.1104 - accuracy: 0.9588\n",
      "Epoch 30/100\n",
      "29/28 [==============================] - 38s 1s/step - loss: 0.1170 - accuracy: 0.9496\n",
      "Epoch 31/100\n",
      "29/28 [==============================] - 38s 1s/step - loss: 0.0996 - accuracy: 0.9615\n",
      "Epoch 32/100\n",
      "29/28 [==============================] - 38s 1s/step - loss: 0.1046 - accuracy: 0.9610\n",
      "Epoch 33/100\n",
      "29/28 [==============================] - 38s 1s/step - loss: 0.0957 - accuracy: 0.9604\n",
      "Epoch 34/100\n",
      "29/28 [==============================] - 38s 1s/step - loss: 0.1001 - accuracy: 0.9664\n",
      "Epoch 35/100\n",
      "29/28 [==============================] - 38s 1s/step - loss: 0.0903 - accuracy: 0.9642\n",
      "Epoch 36/100\n",
      "29/28 [==============================] - 38s 1s/step - loss: 0.0998 - accuracy: 0.9604\n",
      "Epoch 37/100\n",
      "29/28 [==============================] - 39s 1s/step - loss: 0.0819 - accuracy: 0.9729\n",
      "Epoch 38/100\n",
      "29/28 [==============================] - 38s 1s/step - loss: 0.0822 - accuracy: 0.9696\n",
      "Epoch 39/100\n",
      "29/28 [==============================] - 39s 1s/step - loss: 0.0887 - accuracy: 0.9686\n",
      "Epoch 40/100\n",
      "29/28 [==============================] - 39s 1s/step - loss: 0.0856 - accuracy: 0.9680\n",
      "Epoch 41/100\n",
      "29/28 [==============================] - 42s 1s/step - loss: 0.0736 - accuracy: 0.9724\n",
      "Epoch 42/100\n",
      "29/28 [==============================] - 41s 1s/step - loss: 0.0788 - accuracy: 0.9691\n",
      "Epoch 43/100\n",
      "29/28 [==============================] - 40s 1s/step - loss: 0.0944 - accuracy: 0.9637\n",
      "Epoch 44/100\n",
      "29/28 [==============================] - 45s 2s/step - loss: 0.0743 - accuracy: 0.9740\n",
      "Epoch 45/100\n",
      "29/28 [==============================] - 40s 1s/step - loss: 0.0704 - accuracy: 0.9740\n",
      "Epoch 46/100\n",
      "29/28 [==============================] - 39s 1s/step - loss: 0.0766 - accuracy: 0.9702\n",
      "Epoch 47/100\n",
      "29/28 [==============================] - 39s 1s/step - loss: 0.0677 - accuracy: 0.9734\n",
      "Epoch 48/100\n",
      "29/28 [==============================] - 39s 1s/step - loss: 0.0611 - accuracy: 0.9756\n",
      "Epoch 49/100\n",
      "29/28 [==============================] - 39s 1s/step - loss: 0.0631 - accuracy: 0.9756\n",
      "Epoch 50/100\n",
      "29/28 [==============================] - 38s 1s/step - loss: 0.0479 - accuracy: 0.9821\n",
      "Epoch 51/100\n",
      "29/28 [==============================] - 39s 1s/step - loss: 0.0629 - accuracy: 0.9794\n",
      "Epoch 52/100\n",
      "29/28 [==============================] - 38s 1s/step - loss: 0.0619 - accuracy: 0.9756\n",
      "Epoch 53/100\n",
      "29/28 [==============================] - 39s 1s/step - loss: 0.0704 - accuracy: 0.9729\n",
      "Epoch 54/100\n",
      "29/28 [==============================] - 40s 1s/step - loss: 0.0741 - accuracy: 0.9702\n",
      "Epoch 55/100\n",
      "29/28 [==============================] - 39s 1s/step - loss: 0.0720 - accuracy: 0.9718\n",
      "Epoch 56/100\n",
      "29/28 [==============================] - 38s 1s/step - loss: 0.0636 - accuracy: 0.9751\n",
      "Epoch 57/100\n",
      "29/28 [==============================] - 38s 1s/step - loss: 0.0723 - accuracy: 0.9745\n",
      "Epoch 58/100\n",
      "29/28 [==============================] - 38s 1s/step - loss: 0.0682 - accuracy: 0.9718\n",
      "Epoch 59/100\n",
      "29/28 [==============================] - 38s 1s/step - loss: 0.0702 - accuracy: 0.9734\n",
      "Epoch 60/100\n",
      "29/28 [==============================] - 39s 1s/step - loss: 0.0430 - accuracy: 0.9864\n",
      "Epoch 61/100\n",
      "29/28 [==============================] - 39s 1s/step - loss: 0.0481 - accuracy: 0.9843\n",
      "Epoch 62/100\n",
      "29/28 [==============================] - 39s 1s/step - loss: 0.0515 - accuracy: 0.9772\n",
      "Epoch 63/100\n",
      "29/28 [==============================] - 39s 1s/step - loss: 0.0558 - accuracy: 0.9805\n",
      "Epoch 64/100\n",
      "29/28 [==============================] - 38s 1s/step - loss: 0.0677 - accuracy: 0.9767\n",
      "Epoch 65/100\n",
      "29/28 [==============================] - 41s 1s/step - loss: 0.0715 - accuracy: 0.9724\n",
      "Epoch 66/100\n",
      "29/28 [==============================] - 41s 1s/step - loss: 0.0597 - accuracy: 0.9778\n",
      "Epoch 67/100\n",
      "29/28 [==============================] - 39s 1s/step - loss: 0.0599 - accuracy: 0.9756\n",
      "Epoch 68/100\n",
      "29/28 [==============================] - 40s 1s/step - loss: 0.0569 - accuracy: 0.9789\n",
      "Epoch 69/100\n",
      "29/28 [==============================] - 40s 1s/step - loss: 0.0573 - accuracy: 0.9767\n",
      "Epoch 70/100\n",
      "29/28 [==============================] - 38s 1s/step - loss: 0.0647 - accuracy: 0.9745\n",
      "Epoch 71/100\n",
      "29/28 [==============================] - 38s 1s/step - loss: 0.0549 - accuracy: 0.9783\n",
      "Epoch 72/100\n",
      "29/28 [==============================] - 38s 1s/step - loss: 0.0630 - accuracy: 0.9734\n",
      "Epoch 73/100\n",
      "29/28 [==============================] - 39s 1s/step - loss: 0.0527 - accuracy: 0.9827\n",
      "Epoch 74/100\n",
      "29/28 [==============================] - 39s 1s/step - loss: 0.0539 - accuracy: 0.9810\n",
      "Epoch 75/100\n",
      "29/28 [==============================] - 39s 1s/step - loss: 0.0599 - accuracy: 0.9767\n",
      "Epoch 76/100\n",
      "29/28 [==============================] - 39s 1s/step - loss: 0.0506 - accuracy: 0.9821\n",
      "Epoch 77/100\n",
      "29/28 [==============================] - 39s 1s/step - loss: 0.0500 - accuracy: 0.9810\n",
      "Epoch 78/100\n",
      "29/28 [==============================] - 39s 1s/step - loss: 0.0392 - accuracy: 0.9843\n",
      "Epoch 79/100\n",
      "29/28 [==============================] - 38s 1s/step - loss: 0.0446 - accuracy: 0.9848\n",
      "Epoch 80/100\n",
      "29/28 [==============================] - 38s 1s/step - loss: 0.0619 - accuracy: 0.9762\n",
      "Epoch 81/100\n",
      "29/28 [==============================] - 38s 1s/step - loss: 0.0559 - accuracy: 0.9805\n",
      "Epoch 82/100\n",
      "29/28 [==============================] - 38s 1s/step - loss: 0.0545 - accuracy: 0.9767\n",
      "Epoch 83/100\n"
     ]
    },
    {
     "name": "stdout",
     "output_type": "stream",
     "text": [
      "29/28 [==============================] - 38s 1s/step - loss: 0.0471 - accuracy: 0.9859\n",
      "Epoch 84/100\n",
      "29/28 [==============================] - 38s 1s/step - loss: 0.0437 - accuracy: 0.9832\n",
      "Epoch 85/100\n",
      "29/28 [==============================] - 40s 1s/step - loss: 0.0427 - accuracy: 0.9843\n",
      "Epoch 86/100\n",
      "29/28 [==============================] - 41s 1s/step - loss: 0.0299 - accuracy: 0.9886\n",
      "Epoch 87/100\n",
      "29/28 [==============================] - 43s 1s/step - loss: 0.0248 - accuracy: 0.9924\n",
      "Epoch 88/100\n",
      "29/28 [==============================] - 39s 1s/step - loss: 0.0350 - accuracy: 0.9875\n",
      "Epoch 89/100\n",
      "29/28 [==============================] - 38s 1s/step - loss: 0.0320 - accuracy: 0.9886\n",
      "Epoch 90/100\n",
      "29/28 [==============================] - 38s 1s/step - loss: 0.0283 - accuracy: 0.9892\n",
      "Epoch 91/100\n",
      "29/28 [==============================] - 39s 1s/step - loss: 0.0281 - accuracy: 0.9902\n",
      "Epoch 92/100\n",
      "29/28 [==============================] - 39s 1s/step - loss: 0.0293 - accuracy: 0.9908\n",
      "Epoch 93/100\n",
      "29/28 [==============================] - 38s 1s/step - loss: 0.0324 - accuracy: 0.9870\n",
      "Epoch 94/100\n",
      "29/28 [==============================] - 38s 1s/step - loss: 0.0537 - accuracy: 0.9821\n",
      "Epoch 95/100\n",
      "29/28 [==============================] - 38s 1s/step - loss: 0.0360 - accuracy: 0.9859\n",
      "Epoch 96/100\n",
      "29/28 [==============================] - 38s 1s/step - loss: 0.0364 - accuracy: 0.9848\n",
      "Epoch 97/100\n",
      "29/28 [==============================] - 38s 1s/step - loss: 0.0472 - accuracy: 0.9821\n",
      "Epoch 98/100\n",
      "29/28 [==============================] - 38s 1s/step - loss: 0.0471 - accuracy: 0.9827\n",
      "Epoch 99/100\n",
      "29/28 [==============================] - 41s 1s/step - loss: 0.0470 - accuracy: 0.9837\n",
      "Epoch 100/100\n",
      "29/28 [==============================] - 39s 1s/step - loss: 0.0369 - accuracy: 0.9886\n"
     ]
    }
   ],
   "source": [
    "# train the model\n",
    "#H=model.fit(datagen.flow(x_train, y_train, batch_size=32),\n",
    " #         steps_per_epoch=len(x_train) / 32, epochs=epochs)\n",
    "\n",
    "\n",
    "H = model.fit_generator(datagen.flow(trainX, trainY, batch_size=64),\n",
    "                        validation_data=(testX,testY),\n",
    "                        steps_per_epoch=len(trainX) / 64,\n",
    "                        epochs=epochs, verbose=1)"
   ]
  },
  {
   "cell_type": "code",
   "execution_count": 5,
   "metadata": {},
   "outputs": [
    {
     "name": "stdout",
     "output_type": "stream",
     "text": [
      "INFO:tensorflow:Assets written to: gender_detection.model\\assets\n"
     ]
    }
   ],
   "source": [
    "# save the model to disk\n",
    "model.save('gender_detection.model')"
   ]
  },
  {
   "cell_type": "code",
   "execution_count": 23,
   "metadata": {},
   "outputs": [
    {
     "ename": "KeyError",
     "evalue": "'val_loss'",
     "output_type": "error",
     "traceback": [
      "\u001b[1;31m---------------------------------------------------------------------------\u001b[0m",
      "\u001b[1;31mKeyError\u001b[0m                                  Traceback (most recent call last)",
      "\u001b[1;32m<ipython-input-23-da43151ce597>\u001b[0m in \u001b[0;36m<module>\u001b[1;34m\u001b[0m\n\u001b[0;32m      4\u001b[0m \u001b[0mN\u001b[0m \u001b[1;33m=\u001b[0m \u001b[0mepochs\u001b[0m\u001b[1;33m\u001b[0m\u001b[1;33m\u001b[0m\u001b[0m\n\u001b[0;32m      5\u001b[0m \u001b[0mplt\u001b[0m\u001b[1;33m.\u001b[0m\u001b[0mplot\u001b[0m\u001b[1;33m(\u001b[0m\u001b[0mnp\u001b[0m\u001b[1;33m.\u001b[0m\u001b[0marange\u001b[0m\u001b[1;33m(\u001b[0m\u001b[1;36m0\u001b[0m\u001b[1;33m,\u001b[0m\u001b[0mN\u001b[0m\u001b[1;33m)\u001b[0m\u001b[1;33m,\u001b[0m \u001b[0mH\u001b[0m\u001b[1;33m.\u001b[0m\u001b[0mhistory\u001b[0m\u001b[1;33m[\u001b[0m\u001b[1;34m\"loss\"\u001b[0m\u001b[1;33m]\u001b[0m\u001b[1;33m,\u001b[0m \u001b[0mlabel\u001b[0m\u001b[1;33m=\u001b[0m\u001b[1;34m\"train_loss\"\u001b[0m\u001b[1;33m)\u001b[0m\u001b[1;33m\u001b[0m\u001b[1;33m\u001b[0m\u001b[0m\n\u001b[1;32m----> 6\u001b[1;33m \u001b[0mplt\u001b[0m\u001b[1;33m.\u001b[0m\u001b[0mplot\u001b[0m\u001b[1;33m(\u001b[0m\u001b[0mnp\u001b[0m\u001b[1;33m.\u001b[0m\u001b[0marange\u001b[0m\u001b[1;33m(\u001b[0m\u001b[1;36m0\u001b[0m\u001b[1;33m,\u001b[0m\u001b[0mN\u001b[0m\u001b[1;33m)\u001b[0m\u001b[1;33m,\u001b[0m \u001b[0mH\u001b[0m\u001b[1;33m.\u001b[0m\u001b[0mhistory\u001b[0m\u001b[1;33m[\u001b[0m\u001b[1;34m\"val_loss\"\u001b[0m\u001b[1;33m]\u001b[0m\u001b[1;33m,\u001b[0m \u001b[0mlabel\u001b[0m\u001b[1;33m=\u001b[0m\u001b[1;34m\"val_loss\"\u001b[0m\u001b[1;33m)\u001b[0m\u001b[1;33m\u001b[0m\u001b[1;33m\u001b[0m\u001b[0m\n\u001b[0m\u001b[0;32m      7\u001b[0m \u001b[0mplt\u001b[0m\u001b[1;33m.\u001b[0m\u001b[0mplot\u001b[0m\u001b[1;33m(\u001b[0m\u001b[0mnp\u001b[0m\u001b[1;33m.\u001b[0m\u001b[0marange\u001b[0m\u001b[1;33m(\u001b[0m\u001b[1;36m0\u001b[0m\u001b[1;33m,\u001b[0m\u001b[0mN\u001b[0m\u001b[1;33m)\u001b[0m\u001b[1;33m,\u001b[0m \u001b[0mH\u001b[0m\u001b[1;33m.\u001b[0m\u001b[0mhistory\u001b[0m\u001b[1;33m[\u001b[0m\u001b[1;34m\"acc\"\u001b[0m\u001b[1;33m]\u001b[0m\u001b[1;33m,\u001b[0m \u001b[0mlabel\u001b[0m\u001b[1;33m=\u001b[0m\u001b[1;34m\"train_acc\"\u001b[0m\u001b[1;33m)\u001b[0m\u001b[1;33m\u001b[0m\u001b[1;33m\u001b[0m\u001b[0m\n\u001b[0;32m      8\u001b[0m \u001b[0mplt\u001b[0m\u001b[1;33m.\u001b[0m\u001b[0mplot\u001b[0m\u001b[1;33m(\u001b[0m\u001b[0mnp\u001b[0m\u001b[1;33m.\u001b[0m\u001b[0marange\u001b[0m\u001b[1;33m(\u001b[0m\u001b[1;36m0\u001b[0m\u001b[1;33m,\u001b[0m\u001b[0mN\u001b[0m\u001b[1;33m)\u001b[0m\u001b[1;33m,\u001b[0m \u001b[0mH\u001b[0m\u001b[1;33m.\u001b[0m\u001b[0mhistory\u001b[0m\u001b[1;33m[\u001b[0m\u001b[1;34m\"val_acc\"\u001b[0m\u001b[1;33m]\u001b[0m\u001b[1;33m,\u001b[0m \u001b[0mlabel\u001b[0m\u001b[1;33m=\u001b[0m\u001b[1;34m\"val_acc\"\u001b[0m\u001b[1;33m)\u001b[0m\u001b[1;33m\u001b[0m\u001b[1;33m\u001b[0m\u001b[0m\n",
      "\u001b[1;31mKeyError\u001b[0m: 'val_loss'"
     ]
    },
    {
     "data": {
      "image/png": "[encoded data removed]",
      "text/plain": [
       "<Figure size 432x288 with 1 Axes>"
      ]
     },
     "metadata": {},
     "output_type": "display_data"
    }
   ],
   "source": [
    "# plot training/validation loss/accuracy\n",
    "plt.style.use(\"ggplot\")\n",
    "plt.figure()\n",
    "N = epochs\n",
    "plt.plot(np.arange(0,N), H.history[\"loss\"], label=\"train_loss\")\n",
    "plt.plot(np.arange(0,N), H.history[\"val_loss\"], label=\"val_loss\")\n",
    "plt.plot(np.arange(0,N), H.history[\"acc\"], label=\"train_acc\")\n",
    "plt.plot(np.arange(0,N), H.history[\"val_acc\"], label=\"val_acc\")\n",
    "\n",
    "plt.title(\"Training Loss and Accuracy\")\n",
    "plt.xlabel(\"Epoch #\")\n",
    "plt.ylabel(\"Loss/Accuracy\")\n",
    "plt.legend(loc=\"upper right\")\n"
   ]
  },
  {
   "cell_type": "code",
   "execution_count": 24,
   "metadata": {},
   "outputs": [
    {
     "data": {
      "text/plain": [
       "<Figure size 432x288 with 0 Axes>"
      ]
     },
     "metadata": {},
     "output_type": "display_data"
    }
   ],
   "source": [
    "# save plot to disk\n",
    "plt.savefig('plot.png')"
   ]
  },
  {
   "cell_type": "markdown",
   "metadata": {},
   "source": [
    "# WEBCAM"
   ]
  },
  {
   "cell_type": "code",
   "execution_count": 6,
   "metadata": {},
   "outputs": [],
   "source": [
    "from tensorflow.keras.preprocessing.image import img_to_array\n",
    "from tensorflow.keras.models import load_model\n",
    "import numpy as np\n",
    "import cv2\n",
    "import os\n",
    "import cvlib as cv"
   ]
  },
  {
   "cell_type": "code",
   "execution_count": 7,
   "metadata": {},
   "outputs": [],
   "source": [
    "# load model\n",
    "model = load_model('gender_detection.model')"
   ]
  },
  {
   "cell_type": "code",
   "execution_count": 8,
   "metadata": {},
   "outputs": [],
   "source": [
    "# open webcam\n",
    "webcam = cv2.VideoCapture(0)\n",
    "\n",
    "classes = ['man','woman']"
   ]
  },
  {
   "cell_type": "code",
   "execution_count": 9,
   "metadata": {},
   "outputs": [
    {
     "ename": "TypeError",
     "evalue": "cannot unpack non-iterable NoneType object",
     "output_type": "error",
     "traceback": [
      "\u001b[1;31m---------------------------------------------------------------------------\u001b[0m",
      "\u001b[1;31mTypeError\u001b[0m                                 Traceback (most recent call last)",
      "\u001b[1;32m<ipython-input-9-e72d0c78f473>\u001b[0m in \u001b[0;36m<module>\u001b[1;34m\u001b[0m\n\u001b[0;32m      6\u001b[0m \u001b[1;33m\u001b[0m\u001b[0m\n\u001b[0;32m      7\u001b[0m     \u001b[1;31m# apply face detection\u001b[0m\u001b[1;33m\u001b[0m\u001b[1;33m\u001b[0m\u001b[1;33m\u001b[0m\u001b[0m\n\u001b[1;32m----> 8\u001b[1;33m     \u001b[0mface\u001b[0m\u001b[1;33m,\u001b[0m \u001b[0mconfidence\u001b[0m \u001b[1;33m=\u001b[0m \u001b[0mcv\u001b[0m\u001b[1;33m.\u001b[0m\u001b[0mdetect_face\u001b[0m\u001b[1;33m(\u001b[0m\u001b[0mframe\u001b[0m\u001b[1;33m)\u001b[0m\u001b[1;33m\u001b[0m\u001b[1;33m\u001b[0m\u001b[0m\n\u001b[0m\u001b[0;32m      9\u001b[0m \u001b[1;33m\u001b[0m\u001b[0m\n\u001b[0;32m     10\u001b[0m \u001b[1;33m\u001b[0m\u001b[0m\n",
      "\u001b[1;31mTypeError\u001b[0m: cannot unpack non-iterable NoneType object"
     ]
    }
   ],
   "source": [
    "# loop through frames\n",
    "while webcam.isOpened():\n",
    "\n",
    "    # read frame from webcam \n",
    "    status, frame = webcam.read()\n",
    "\n",
    "    # apply face detection\n",
    "    face, confidence = cv.detect_face(frame)\n",
    "\n",
    "\n",
    "    # loop through detected faces\n",
    "    for idx, f in enumerate(face):\n",
    "\n",
    "        # get corner points of face rectangle        \n",
    "        (startX, startY) = f[0], f[1]\n",
    "        (endX, endY) = f[2], f[3]\n",
    "\n",
    "        # draw rectangle over face\n",
    "        cv2.rectangle(frame, (startX,startY), (endX,endY), (0,255,0), 2)\n",
    "\n",
    "        # crop the detected face region\n",
    "        face_crop = np.copy(frame[startY:endY,startX:endX])\n",
    "\n",
    "        if (face_crop.shape[0]) < 10 or (face_crop.shape[1]) < 10:\n",
    "            continue\n",
    "\n",
    "        # preprocessing for gender detection model\n",
    "        face_crop = cv2.resize(face_crop, (96,96))\n",
    "        face_crop = face_crop.astype(\"float\") / 255.0\n",
    "        face_crop = img_to_array(face_crop)\n",
    "        face_crop = np.expand_dims(face_crop, axis=0)\n",
    "\n",
    "        # apply gender detection on face\n",
    "        conf = model.predict(face_crop)[0] # model.predict return a 2D matrix, ex: [[9.9993384e-01 7.4850512e-05]]\n",
    "\n",
    "        # get label with max accuracy\n",
    "        idx = np.argmax(conf)\n",
    "        label = classes[idx]\n",
    "\n",
    "        label = \"{}: {:.2f}%\".format(label, conf[idx] * 100)\n",
    "\n",
    "        Y = startY - 10 if startY - 10 > 10 else startY + 10\n",
    "\n",
    "        # write label and confidence above face rectangle\n",
    "        cv2.putText(frame, label, (startX, Y),  cv2.FONT_HERSHEY_SIMPLEX,\n",
    "                    0.7, (0, 255, 0), 2)\n",
    "\n",
    "    # display output\n",
    "    cv2.imshow(\"gender detection\", frame)\n",
    "\n",
    "    # press \"Q\" to stop\n",
    "    if cv2.waitKey(1) & 0xFF == ord('q'):\n",
    "        break\n",
    "\n",
    "# release resources\n",
    "webcam.release()\n",
    "cv2.destroyAllWindows()"
   ]
  },
  {
   "cell_type": "code",
   "execution_count": 26,
   "metadata": {},
   "outputs": [
    {
     "name": "stdout",
     "output_type": "stream",
     "text": [
      "Requirement already satisfied: numpy in c:\\users\\lenovo\\anaconda3\\lib\\site-packages (1.18.5)\n",
      "Requirement already satisfied: opencv-python in c:\\users\\lenovo\\anaconda3\\lib\\site-packages (4.5.1.48)\n",
      "Requirement already satisfied: requests in c:\\users\\lenovo\\anaconda3\\lib\\site-packages (2.24.0)\n",
      "Collecting progressbar\n",
      "  Downloading progressbar-2.5.tar.gz (10 kB)\n",
      "Requirement already satisfied: idna<3,>=2.5 in c:\\users\\lenovo\\anaconda3\\lib\\site-packages (from requests) (2.10)\n",
      "Requirement already satisfied: urllib3!=1.25.0,!=1.25.1,<1.26,>=1.21.1 in c:\\users\\lenovo\\anaconda3\\lib\\site-packages (from requests) (1.25.9)\n",
      "Requirement already satisfied: chardet<4,>=3.0.2 in c:\\users\\lenovo\\anaconda3\\lib\\site-packages (from requests) (3.0.4)\n",
      "Requirement already satisfied: certifi>=2017.4.17 in c:\\users\\lenovo\\anaconda3\\lib\\site-packages (from requests) (2020.6.20)\n",
      "Building wheels for collected packages: progressbar\n",
      "  Building wheel for progressbar (setup.py): started\n",
      "  Building wheel for progressbar (setup.py): finished with status 'done'\n",
      "  Created wheel for progressbar: filename=progressbar-2.5-py3-none-any.whl size=12078 sha256=3caa79ff77382be0958608b8f4e07e47685a4bf27d2772517a190dcec8756e5d\n",
      "  Stored in directory: c:\\users\\lenovo\\appdata\\local\\pip\\cache\\wheels\\2c\\67\\ed\\d84123843c937d7e7f5ba88a270d11036473144143355e2747\n",
      "Successfully built progressbar\n",
      "Installing collected packages: progressbar\n",
      "Successfully installed progressbar-2.5\n"
     ]
    },
    {
     "name": "stderr",
     "output_type": "stream",
     "text": [
      "WARNING: You are using pip version 20.2.3; however, version 21.0.1 is available.\n",
      "You should consider upgrading via the 'C:\\Users\\LENOVO\\anaconda3\\python.exe -m pip install --upgrade pip' command.\n"
     ]
    }
   ],
   "source": [
    "!pip install numpy opencv-python requests progressbar"
   ]
  },
  {
   "cell_type": "code",
   "execution_count": null,
   "metadata": {},
   "outputs": [],
   "source": []
  },
  {
   "cell_type": "code",
   "execution_count": null,
   "metadata": {},
   "outputs": [],
   "source": []
  },
  {
   "cell_type": "code",
   "execution_count": null,
   "metadata": {},
   "outputs": [],
   "source": []
  },
  {
   "cell_type": "code",
   "execution_count": null,
   "metadata": {},
   "outputs": [],
   "source": []
  },
  {
   "cell_type": "code",
   "execution_count": null,
   "metadata": {},
   "outputs": [],
   "source": []
  },
  {
   "cell_type": "code",
   "execution_count": null,
   "metadata": {},
   "outputs": [],
   "source": []
  },
  {
   "cell_type": "code",
   "execution_count": null,
   "metadata": {},
   "outputs": [],
   "source": []
  },
  {
   "cell_type": "code",
   "execution_count": null,
   "metadata": {},
   "outputs": [],
   "source": []
  },
  {
   "cell_type": "code",
   "execution_count": null,
   "metadata": {},
   "outputs": [],
   "source": []
  }
 ],
 "metadata": {
  "kernelspec": {
   "display_name": "Python 3",
   "language": "python",
   "name": "python3"
  },
  "language_info": {
   "codemirror_mode": {
    "name": "ipython",
    "version": 3
   },
   "file_extension": ".py",
   "mimetype": "text/x-python",
   "name": "python",
   "nbconvert_exporter": "python",
   "pygments_lexer": "ipython3",
   "version": "3.8.3"
  }
 },
 "nbformat": 4,
 "nbformat_minor": 4
}
